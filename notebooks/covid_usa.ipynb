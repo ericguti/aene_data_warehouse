{
 "cells": [
  {
   "cell_type": "code",
   "execution_count": 2,
   "id": "0d6b0383",
   "metadata": {},
   "outputs": [],
   "source": [
    "covid_usa = spark.read.option('header', 'true').csv('file:///home/guti/Documents/UPM_Software_3/Big_Data/final_project/data/COVID-19_Case_Surveillance_Public_Use_Data_with_Geography.csv')"
   ]
  },
  {
   "cell_type": "code",
   "execution_count": 4,
   "id": "e6de1dfd",
   "metadata": {},
   "outputs": [
    {
     "name": "stdout",
     "output_type": "stream",
     "text": [
      "root\n",
      " |-- case_month: string (nullable = true)\n",
      " |-- res_state: string (nullable = true)\n",
      " |-- state_fips_code: string (nullable = true)\n",
      " |-- res_county: string (nullable = true)\n",
      " |-- county_fips_code: string (nullable = true)\n",
      " |-- age_group: string (nullable = true)\n",
      " |-- sex: string (nullable = true)\n",
      " |-- race: string (nullable = true)\n",
      " |-- ethnicity: string (nullable = true)\n",
      " |-- case_positive_specimen_interval: string (nullable = true)\n",
      " |-- case_onset_interval: string (nullable = true)\n",
      " |-- process: string (nullable = true)\n",
      " |-- exposure_yn: string (nullable = true)\n",
      " |-- current_status: string (nullable = true)\n",
      " |-- symptom_status: string (nullable = true)\n",
      " |-- hosp_yn: string (nullable = true)\n",
      " |-- icu_yn: string (nullable = true)\n",
      " |-- death_yn: string (nullable = true)\n",
      " |-- underlying_conditions_yn: string (nullable = true)\n",
      "\n"
     ]
    }
   ],
   "source": [
    "covid_usa.printSchema()"
   ]
  },
  {
   "cell_type": "code",
   "execution_count": 8,
   "id": "1d0a65d5",
   "metadata": {},
   "outputs": [],
   "source": [
    "counties = covid_usa.select(covid_usa['res_county']).distinct()"
   ]
  },
  {
   "cell_type": "code",
   "execution_count": 9,
   "id": "dee9699e",
   "metadata": {},
   "outputs": [
    {
     "name": "stderr",
     "output_type": "stream",
     "text": [
      "[Stage 5:========================================================>(95 + 1) / 96]\r"
     ]
    },
    {
     "name": "stdout",
     "output_type": "stream",
     "text": [
      "+------------+\n",
      "|  res_county|\n",
      "+------------+\n",
      "|  CUMBERLAND|\n",
      "|     JOHNSON|\n",
      "|     HANCOCK|\n",
      "|      YAKIMA|\n",
      "|     MANATEE|\n",
      "|  PALM BEACH|\n",
      "|   LA CROSSE|\n",
      "|     OLMSTED|\n",
      "|        YUMA|\n",
      "|     LOWNDES|\n",
      "|     RANDALL|\n",
      "|      PARKER|\n",
      "|     ELKHART|\n",
      "|    BEAUFORT|\n",
      "|      BRAZOS|\n",
      "|      FULTON|\n",
      "|    GALLATIN|\n",
      "|     HARNETT|\n",
      "|ST. LAWRENCE|\n",
      "|  LACKAWANNA|\n",
      "+------------+\n",
      "only showing top 20 rows\n",
      "\n"
     ]
    },
    {
     "name": "stderr",
     "output_type": "stream",
     "text": [
      "\r",
      "                                                                                \r"
     ]
    }
   ],
   "source": [
    "counties.show()"
   ]
  },
  {
   "cell_type": "code",
   "execution_count": 10,
   "id": "13790220",
   "metadata": {},
   "outputs": [
    {
     "name": "stderr",
     "output_type": "stream",
     "text": [
      "                                                                                \r"
     ]
    },
    {
     "data": {
      "text/plain": [
       "1170"
      ]
     },
     "execution_count": 10,
     "metadata": {},
     "output_type": "execute_result"
    }
   ],
   "source": [
    "counties.count()"
   ]
  },
  {
   "cell_type": "code",
   "execution_count": null,
   "id": "232baa23",
   "metadata": {},
   "outputs": [],
   "source": []
  }
 ],
 "metadata": {
  "kernelspec": {
   "display_name": "Python 3 (ipykernel)",
   "language": "python",
   "name": "python3"
  },
  "language_info": {
   "codemirror_mode": {
    "name": "ipython",
    "version": 3
   },
   "file_extension": ".py",
   "mimetype": "text/x-python",
   "name": "python",
   "nbconvert_exporter": "python",
   "pygments_lexer": "ipython3",
   "version": "3.8.10"
  }
 },
 "nbformat": 4,
 "nbformat_minor": 5
}
