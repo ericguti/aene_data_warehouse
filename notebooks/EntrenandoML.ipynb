{
 "cells": [
  {
   "cell_type": "code",
   "execution_count": 1,
   "id": "9cddace5",
   "metadata": {},
   "outputs": [],
   "source": [
    "import pandas as pd\n",
    "import matplotlib.pyplot as plt\n",
    "import numpy as np\n",
    "import pandas as pd\n",
    "import seaborn as sns\n",
    "import timeit"
   ]
  },
  {
   "cell_type": "code",
   "execution_count": 2,
   "id": "3ebe400f",
   "metadata": {},
   "outputs": [
    {
     "data": {
      "text/html": [
       "<div>\n",
       "<style scoped>\n",
       "    .dataframe tbody tr th:only-of-type {\n",
       "        vertical-align: middle;\n",
       "    }\n",
       "\n",
       "    .dataframe tbody tr th {\n",
       "        vertical-align: top;\n",
       "    }\n",
       "\n",
       "    .dataframe thead th {\n",
       "        text-align: right;\n",
       "    }\n",
       "</style>\n",
       "<table border=\"1\" class=\"dataframe\">\n",
       "  <thead>\n",
       "    <tr style=\"text-align: right;\">\n",
       "      <th></th>\n",
       "      <th>day</th>\n",
       "      <th>covid</th>\n",
       "      <th>pcr</th>\n",
       "      <th>fiebre</th>\n",
       "      <th>perdida_olfato</th>\n",
       "      <th>antigenos</th>\n",
       "    </tr>\n",
       "  </thead>\n",
       "  <tbody>\n",
       "    <tr>\n",
       "      <th>0</th>\n",
       "      <td>2021-11-28</td>\n",
       "      <td>29</td>\n",
       "      <td>33</td>\n",
       "      <td>30</td>\n",
       "      <td>23</td>\n",
       "      <td>9</td>\n",
       "    </tr>\n",
       "    <tr>\n",
       "      <th>1</th>\n",
       "      <td>2021-11-29</td>\n",
       "      <td>43</td>\n",
       "      <td>38</td>\n",
       "      <td>33</td>\n",
       "      <td>34</td>\n",
       "      <td>13</td>\n",
       "    </tr>\n",
       "    <tr>\n",
       "      <th>2</th>\n",
       "      <td>2021-11-30</td>\n",
       "      <td>44</td>\n",
       "      <td>34</td>\n",
       "      <td>35</td>\n",
       "      <td>14</td>\n",
       "      <td>14</td>\n",
       "    </tr>\n",
       "    <tr>\n",
       "      <th>3</th>\n",
       "      <td>2021-12-01</td>\n",
       "      <td>43</td>\n",
       "      <td>31</td>\n",
       "      <td>41</td>\n",
       "      <td>13</td>\n",
       "      <td>14</td>\n",
       "    </tr>\n",
       "    <tr>\n",
       "      <th>4</th>\n",
       "      <td>2021-12-02</td>\n",
       "      <td>49</td>\n",
       "      <td>31</td>\n",
       "      <td>37</td>\n",
       "      <td>0</td>\n",
       "      <td>15</td>\n",
       "    </tr>\n",
       "    <tr>\n",
       "      <th>...</th>\n",
       "      <td>...</td>\n",
       "      <td>...</td>\n",
       "      <td>...</td>\n",
       "      <td>...</td>\n",
       "      <td>...</td>\n",
       "      <td>...</td>\n",
       "    </tr>\n",
       "    <tr>\n",
       "      <th>62</th>\n",
       "      <td>2022-01-29</td>\n",
       "      <td>27</td>\n",
       "      <td>17</td>\n",
       "      <td>54</td>\n",
       "      <td>0</td>\n",
       "      <td>16</td>\n",
       "    </tr>\n",
       "    <tr>\n",
       "      <th>63</th>\n",
       "      <td>2022-01-30</td>\n",
       "      <td>22</td>\n",
       "      <td>12</td>\n",
       "      <td>47</td>\n",
       "      <td>25</td>\n",
       "      <td>13</td>\n",
       "    </tr>\n",
       "    <tr>\n",
       "      <th>64</th>\n",
       "      <td>2022-01-31</td>\n",
       "      <td>27</td>\n",
       "      <td>17</td>\n",
       "      <td>46</td>\n",
       "      <td>51</td>\n",
       "      <td>15</td>\n",
       "    </tr>\n",
       "    <tr>\n",
       "      <th>65</th>\n",
       "      <td>2022-02-01</td>\n",
       "      <td>26</td>\n",
       "      <td>17</td>\n",
       "      <td>41</td>\n",
       "      <td>20</td>\n",
       "      <td>15</td>\n",
       "    </tr>\n",
       "    <tr>\n",
       "      <th>66</th>\n",
       "      <td>2022-02-02</td>\n",
       "      <td>25</td>\n",
       "      <td>18</td>\n",
       "      <td>48</td>\n",
       "      <td>0</td>\n",
       "      <td>13</td>\n",
       "    </tr>\n",
       "  </tbody>\n",
       "</table>\n",
       "<p>67 rows × 6 columns</p>\n",
       "</div>"
      ],
      "text/plain": [
       "           day  covid  pcr  fiebre  perdida_olfato  antigenos\n",
       "0   2021-11-28     29   33      30              23          9\n",
       "1   2021-11-29     43   38      33              34         13\n",
       "2   2021-11-30     44   34      35              14         14\n",
       "3   2021-12-01     43   31      41              13         14\n",
       "4   2021-12-02     49   31      37               0         15\n",
       "..         ...    ...  ...     ...             ...        ...\n",
       "62  2022-01-29     27   17      54               0         16\n",
       "63  2022-01-30     22   12      47              25         13\n",
       "64  2022-01-31     27   17      46              51         15\n",
       "65  2022-02-01     26   17      41              20         15\n",
       "66  2022-02-02     25   18      48               0         13\n",
       "\n",
       "[67 rows x 6 columns]"
      ]
     },
     "execution_count": 2,
     "metadata": {},
     "output_type": "execute_result"
    }
   ],
   "source": [
    "csv_es = pd.read_csv(\"/home/guti/Documents/UPM_Software_3/Big_Data/final_project/data/trends/trends_es_daily.csv\")\n",
    "csv_es"
   ]
  },
  {
   "cell_type": "code",
   "execution_count": 3,
   "id": "ed18b20f",
   "metadata": {},
   "outputs": [
    {
     "data": {
      "text/html": [
       "<div>\n",
       "<style scoped>\n",
       "    .dataframe tbody tr th:only-of-type {\n",
       "        vertical-align: middle;\n",
       "    }\n",
       "\n",
       "    .dataframe tbody tr th {\n",
       "        vertical-align: top;\n",
       "    }\n",
       "\n",
       "    .dataframe thead th {\n",
       "        text-align: right;\n",
       "    }\n",
       "</style>\n",
       "<table border=\"1\" class=\"dataframe\">\n",
       "  <thead>\n",
       "    <tr style=\"text-align: right;\">\n",
       "      <th></th>\n",
       "      <th>day</th>\n",
       "      <th>covid</th>\n",
       "      <th>pcr</th>\n",
       "      <th>fever</th>\n",
       "      <th>no_smell</th>\n",
       "    </tr>\n",
       "  </thead>\n",
       "  <tbody>\n",
       "    <tr>\n",
       "      <th>0</th>\n",
       "      <td>2021-11-28</td>\n",
       "      <td>28</td>\n",
       "      <td>25</td>\n",
       "      <td>48</td>\n",
       "      <td>51</td>\n",
       "    </tr>\n",
       "    <tr>\n",
       "      <th>1</th>\n",
       "      <td>2021-11-29</td>\n",
       "      <td>32</td>\n",
       "      <td>30</td>\n",
       "      <td>45</td>\n",
       "      <td>75</td>\n",
       "    </tr>\n",
       "    <tr>\n",
       "      <th>2</th>\n",
       "      <td>2021-11-30</td>\n",
       "      <td>33</td>\n",
       "      <td>30</td>\n",
       "      <td>47</td>\n",
       "      <td>51</td>\n",
       "    </tr>\n",
       "    <tr>\n",
       "      <th>3</th>\n",
       "      <td>2021-12-01</td>\n",
       "      <td>31</td>\n",
       "      <td>31</td>\n",
       "      <td>50</td>\n",
       "      <td>51</td>\n",
       "    </tr>\n",
       "    <tr>\n",
       "      <th>4</th>\n",
       "      <td>2021-12-02</td>\n",
       "      <td>31</td>\n",
       "      <td>33</td>\n",
       "      <td>50</td>\n",
       "      <td>52</td>\n",
       "    </tr>\n",
       "    <tr>\n",
       "      <th>...</th>\n",
       "      <td>...</td>\n",
       "      <td>...</td>\n",
       "      <td>...</td>\n",
       "      <td>...</td>\n",
       "      <td>...</td>\n",
       "    </tr>\n",
       "    <tr>\n",
       "      <th>62</th>\n",
       "      <td>2022-01-29</td>\n",
       "      <td>26</td>\n",
       "      <td>23</td>\n",
       "      <td>50</td>\n",
       "      <td>56</td>\n",
       "    </tr>\n",
       "    <tr>\n",
       "      <th>63</th>\n",
       "      <td>2022-01-30</td>\n",
       "      <td>23</td>\n",
       "      <td>20</td>\n",
       "      <td>58</td>\n",
       "      <td>45</td>\n",
       "    </tr>\n",
       "    <tr>\n",
       "      <th>64</th>\n",
       "      <td>2022-01-31</td>\n",
       "      <td>30</td>\n",
       "      <td>29</td>\n",
       "      <td>58</td>\n",
       "      <td>53</td>\n",
       "    </tr>\n",
       "    <tr>\n",
       "      <th>65</th>\n",
       "      <td>2022-02-01</td>\n",
       "      <td>27</td>\n",
       "      <td>26</td>\n",
       "      <td>48</td>\n",
       "      <td>41</td>\n",
       "    </tr>\n",
       "    <tr>\n",
       "      <th>66</th>\n",
       "      <td>2022-02-02</td>\n",
       "      <td>25</td>\n",
       "      <td>25</td>\n",
       "      <td>45</td>\n",
       "      <td>41</td>\n",
       "    </tr>\n",
       "  </tbody>\n",
       "</table>\n",
       "<p>67 rows × 5 columns</p>\n",
       "</div>"
      ],
      "text/plain": [
       "           day  covid  pcr  fever  no_smell\n",
       "0   2021-11-28     28   25     48        51\n",
       "1   2021-11-29     32   30     45        75\n",
       "2   2021-11-30     33   30     47        51\n",
       "3   2021-12-01     31   31     50        51\n",
       "4   2021-12-02     31   33     50        52\n",
       "..         ...    ...  ...    ...       ...\n",
       "62  2022-01-29     26   23     50        56\n",
       "63  2022-01-30     23   20     58        45\n",
       "64  2022-01-31     30   29     58        53\n",
       "65  2022-02-01     27   26     48        41\n",
       "66  2022-02-02     25   25     45        41\n",
       "\n",
       "[67 rows x 5 columns]"
      ]
     },
     "execution_count": 3,
     "metadata": {},
     "output_type": "execute_result"
    }
   ],
   "source": [
    "csv_eeuu = pd.read_csv(\"/home/guti/Documents/UPM_Software_3/Big_Data/final_project/data/trends/trends_us_daily.csv\")\n",
    "csv_eeuu"
   ]
  },
  {
   "cell_type": "code",
   "execution_count": 4,
   "id": "4d904929",
   "metadata": {},
   "outputs": [
    {
     "data": {
      "text/html": [
       "<div>\n",
       "<style scoped>\n",
       "    .dataframe tbody tr th:only-of-type {\n",
       "        vertical-align: middle;\n",
       "    }\n",
       "\n",
       "    .dataframe tbody tr th {\n",
       "        vertical-align: top;\n",
       "    }\n",
       "\n",
       "    .dataframe thead th {\n",
       "        text-align: right;\n",
       "    }\n",
       "</style>\n",
       "<table border=\"1\" class=\"dataframe\">\n",
       "  <thead>\n",
       "    <tr style=\"text-align: right;\">\n",
       "      <th></th>\n",
       "      <th>fecha</th>\n",
       "      <th>sum(num_casos)</th>\n",
       "      <th>sum(num_hosp)</th>\n",
       "      <th>sum(num_uci)</th>\n",
       "      <th>sum(num_def)</th>\n",
       "    </tr>\n",
       "  </thead>\n",
       "  <tbody>\n",
       "    <tr>\n",
       "      <th>0</th>\n",
       "      <td>2020-01-01</td>\n",
       "      <td>0.0</td>\n",
       "      <td>8.0</td>\n",
       "      <td>0.0</td>\n",
       "      <td>0.0</td>\n",
       "    </tr>\n",
       "    <tr>\n",
       "      <th>1</th>\n",
       "      <td>2020-01-02</td>\n",
       "      <td>0.0</td>\n",
       "      <td>74.0</td>\n",
       "      <td>1.0</td>\n",
       "      <td>0.0</td>\n",
       "    </tr>\n",
       "    <tr>\n",
       "      <th>2</th>\n",
       "      <td>2020-01-03</td>\n",
       "      <td>0.0</td>\n",
       "      <td>8.0</td>\n",
       "      <td>1.0</td>\n",
       "      <td>0.0</td>\n",
       "    </tr>\n",
       "    <tr>\n",
       "      <th>3</th>\n",
       "      <td>2020-01-04</td>\n",
       "      <td>0.0</td>\n",
       "      <td>6.0</td>\n",
       "      <td>0.0</td>\n",
       "      <td>0.0</td>\n",
       "    </tr>\n",
       "    <tr>\n",
       "      <th>4</th>\n",
       "      <td>2020-01-05</td>\n",
       "      <td>0.0</td>\n",
       "      <td>7.0</td>\n",
       "      <td>0.0</td>\n",
       "      <td>0.0</td>\n",
       "    </tr>\n",
       "    <tr>\n",
       "      <th>...</th>\n",
       "      <td>...</td>\n",
       "      <td>...</td>\n",
       "      <td>...</td>\n",
       "      <td>...</td>\n",
       "      <td>...</td>\n",
       "    </tr>\n",
       "    <tr>\n",
       "      <th>812</th>\n",
       "      <td>2022-03-23</td>\n",
       "      <td>23132.0</td>\n",
       "      <td>410.0</td>\n",
       "      <td>19.0</td>\n",
       "      <td>49.0</td>\n",
       "    </tr>\n",
       "    <tr>\n",
       "      <th>813</th>\n",
       "      <td>2022-03-24</td>\n",
       "      <td>19030.0</td>\n",
       "      <td>385.0</td>\n",
       "      <td>23.0</td>\n",
       "      <td>48.0</td>\n",
       "    </tr>\n",
       "    <tr>\n",
       "      <th>814</th>\n",
       "      <td>2022-03-25</td>\n",
       "      <td>17474.0</td>\n",
       "      <td>350.0</td>\n",
       "      <td>15.0</td>\n",
       "      <td>46.0</td>\n",
       "    </tr>\n",
       "    <tr>\n",
       "      <th>815</th>\n",
       "      <td>2022-03-26</td>\n",
       "      <td>8415.0</td>\n",
       "      <td>295.0</td>\n",
       "      <td>12.0</td>\n",
       "      <td>39.0</td>\n",
       "    </tr>\n",
       "    <tr>\n",
       "      <th>816</th>\n",
       "      <td>2022-03-27</td>\n",
       "      <td>6736.0</td>\n",
       "      <td>284.0</td>\n",
       "      <td>15.0</td>\n",
       "      <td>39.0</td>\n",
       "    </tr>\n",
       "  </tbody>\n",
       "</table>\n",
       "<p>817 rows × 5 columns</p>\n",
       "</div>"
      ],
      "text/plain": [
       "          fecha  sum(num_casos)  sum(num_hosp)  sum(num_uci)  sum(num_def)\n",
       "0    2020-01-01             0.0            8.0           0.0           0.0\n",
       "1    2020-01-02             0.0           74.0           1.0           0.0\n",
       "2    2020-01-03             0.0            8.0           1.0           0.0\n",
       "3    2020-01-04             0.0            6.0           0.0           0.0\n",
       "4    2020-01-05             0.0            7.0           0.0           0.0\n",
       "..          ...             ...            ...           ...           ...\n",
       "812  2022-03-23         23132.0          410.0          19.0          49.0\n",
       "813  2022-03-24         19030.0          385.0          23.0          48.0\n",
       "814  2022-03-25         17474.0          350.0          15.0          46.0\n",
       "815  2022-03-26          8415.0          295.0          12.0          39.0\n",
       "816  2022-03-27          6736.0          284.0          15.0          39.0\n",
       "\n",
       "[817 rows x 5 columns]"
      ]
     },
     "execution_count": 4,
     "metadata": {},
     "output_type": "execute_result"
    }
   ],
   "source": [
    "casos_es = pd.read_csv(\"/home/guti/Documents/UPM_Software_3/Big_Data/final_project/data/covid_aggregated.csv\")\n",
    "casos_es"
   ]
  },
  {
   "cell_type": "code",
   "execution_count": 5,
   "id": "5f7cbfdf",
   "metadata": {},
   "outputs": [
    {
     "data": {
      "text/plain": [
       "fecha              object\n",
       "sum(num_casos)    float64\n",
       "sum(num_hosp)     float64\n",
       "sum(num_uci)      float64\n",
       "sum(num_def)      float64\n",
       "dtype: object"
      ]
     },
     "execution_count": 5,
     "metadata": {},
     "output_type": "execute_result"
    }
   ],
   "source": [
    "casos_es.dtypes"
   ]
  },
  {
   "cell_type": "code",
   "execution_count": 6,
   "id": "32c259d1",
   "metadata": {},
   "outputs": [],
   "source": [
    "casos_es.fecha = pd.to_datetime(casos_es.fecha)"
   ]
  },
  {
   "cell_type": "code",
   "execution_count": 7,
   "id": "3843d489",
   "metadata": {},
   "outputs": [
    {
     "data": {
      "text/plain": [
       "fecha             datetime64[ns]\n",
       "sum(num_casos)           float64\n",
       "sum(num_hosp)            float64\n",
       "sum(num_uci)             float64\n",
       "sum(num_def)             float64\n",
       "dtype: object"
      ]
     },
     "execution_count": 7,
     "metadata": {},
     "output_type": "execute_result"
    }
   ],
   "source": [
    "casos_es.dtypes"
   ]
  },
  {
   "cell_type": "code",
   "execution_count": 8,
   "id": "1018ec42",
   "metadata": {},
   "outputs": [],
   "source": [
    "casos_es = casos_es.set_index(['fecha'])"
   ]
  },
  {
   "cell_type": "code",
   "execution_count": 9,
   "id": "a299a337",
   "metadata": {},
   "outputs": [],
   "source": [
    "casos_es['sum(num_casos)'] = casos_es['sum(num_casos)'].apply(lambda l: int (l))"
   ]
  },
  {
   "cell_type": "code",
   "execution_count": 10,
   "id": "aaf1fd54",
   "metadata": {},
   "outputs": [],
   "source": [
    "casos_es['sum(num_hosp)'] = casos_es['sum(num_hosp)'].apply(lambda l: int (l))"
   ]
  },
  {
   "cell_type": "code",
   "execution_count": 11,
   "id": "a5014dd6",
   "metadata": {},
   "outputs": [],
   "source": [
    "casos_es['sum(num_uci)'] = casos_es['sum(num_uci)'].apply(lambda l: int (l))"
   ]
  },
  {
   "cell_type": "code",
   "execution_count": 12,
   "id": "362c2fb2",
   "metadata": {},
   "outputs": [],
   "source": [
    "casos_es['sum(num_def)'] = casos_es['sum(num_def)'].apply(lambda l: int (l))"
   ]
  },
  {
   "cell_type": "code",
   "execution_count": 13,
   "id": "14cb5464",
   "metadata": {},
   "outputs": [
    {
     "data": {
      "text/plain": [
       "sum(num_casos)    int64\n",
       "sum(num_hosp)     int64\n",
       "sum(num_uci)      int64\n",
       "sum(num_def)      int64\n",
       "dtype: object"
      ]
     },
     "execution_count": 13,
     "metadata": {},
     "output_type": "execute_result"
    }
   ],
   "source": [
    "casos_es.dtypes"
   ]
  },
  {
   "cell_type": "code",
   "execution_count": 14,
   "id": "3b748361",
   "metadata": {},
   "outputs": [
    {
     "data": {
      "text/html": [
       "<div>\n",
       "<style scoped>\n",
       "    .dataframe tbody tr th:only-of-type {\n",
       "        vertical-align: middle;\n",
       "    }\n",
       "\n",
       "    .dataframe tbody tr th {\n",
       "        vertical-align: top;\n",
       "    }\n",
       "\n",
       "    .dataframe thead th {\n",
       "        text-align: right;\n",
       "    }\n",
       "</style>\n",
       "<table border=\"1\" class=\"dataframe\">\n",
       "  <thead>\n",
       "    <tr style=\"text-align: right;\">\n",
       "      <th></th>\n",
       "      <th>sum(num_casos)</th>\n",
       "      <th>sum(num_hosp)</th>\n",
       "      <th>sum(num_uci)</th>\n",
       "      <th>sum(num_def)</th>\n",
       "    </tr>\n",
       "    <tr>\n",
       "      <th>fecha</th>\n",
       "      <th></th>\n",
       "      <th></th>\n",
       "      <th></th>\n",
       "      <th></th>\n",
       "    </tr>\n",
       "  </thead>\n",
       "  <tbody>\n",
       "    <tr>\n",
       "      <th>2021-11-28</th>\n",
       "      <td>4537</td>\n",
       "      <td>267</td>\n",
       "      <td>36</td>\n",
       "      <td>27</td>\n",
       "    </tr>\n",
       "    <tr>\n",
       "      <th>2021-11-29</th>\n",
       "      <td>11555</td>\n",
       "      <td>353</td>\n",
       "      <td>54</td>\n",
       "      <td>41</td>\n",
       "    </tr>\n",
       "    <tr>\n",
       "      <th>2021-11-30</th>\n",
       "      <td>13309</td>\n",
       "      <td>425</td>\n",
       "      <td>38</td>\n",
       "      <td>45</td>\n",
       "    </tr>\n",
       "    <tr>\n",
       "      <th>2021-12-01</th>\n",
       "      <td>14369</td>\n",
       "      <td>398</td>\n",
       "      <td>60</td>\n",
       "      <td>41</td>\n",
       "    </tr>\n",
       "    <tr>\n",
       "      <th>2021-12-02</th>\n",
       "      <td>15618</td>\n",
       "      <td>395</td>\n",
       "      <td>53</td>\n",
       "      <td>36</td>\n",
       "    </tr>\n",
       "    <tr>\n",
       "      <th>...</th>\n",
       "      <td>...</td>\n",
       "      <td>...</td>\n",
       "      <td>...</td>\n",
       "      <td>...</td>\n",
       "    </tr>\n",
       "    <tr>\n",
       "      <th>2022-01-29</th>\n",
       "      <td>47035</td>\n",
       "      <td>1019</td>\n",
       "      <td>58</td>\n",
       "      <td>246</td>\n",
       "    </tr>\n",
       "    <tr>\n",
       "      <th>2022-01-30</th>\n",
       "      <td>39935</td>\n",
       "      <td>943</td>\n",
       "      <td>68</td>\n",
       "      <td>232</td>\n",
       "    </tr>\n",
       "    <tr>\n",
       "      <th>2022-01-31</th>\n",
       "      <td>80735</td>\n",
       "      <td>1126</td>\n",
       "      <td>80</td>\n",
       "      <td>266</td>\n",
       "    </tr>\n",
       "    <tr>\n",
       "      <th>2022-02-01</th>\n",
       "      <td>72283</td>\n",
       "      <td>1134</td>\n",
       "      <td>58</td>\n",
       "      <td>257</td>\n",
       "    </tr>\n",
       "    <tr>\n",
       "      <th>2022-02-02</th>\n",
       "      <td>66738</td>\n",
       "      <td>1054</td>\n",
       "      <td>70</td>\n",
       "      <td>240</td>\n",
       "    </tr>\n",
       "  </tbody>\n",
       "</table>\n",
       "<p>67 rows × 4 columns</p>\n",
       "</div>"
      ],
      "text/plain": [
       "            sum(num_casos)  sum(num_hosp)  sum(num_uci)  sum(num_def)\n",
       "fecha                                                                \n",
       "2021-11-28            4537            267            36            27\n",
       "2021-11-29           11555            353            54            41\n",
       "2021-11-30           13309            425            38            45\n",
       "2021-12-01           14369            398            60            41\n",
       "2021-12-02           15618            395            53            36\n",
       "...                    ...            ...           ...           ...\n",
       "2022-01-29           47035           1019            58           246\n",
       "2022-01-30           39935            943            68           232\n",
       "2022-01-31           80735           1126            80           266\n",
       "2022-02-01           72283           1134            58           257\n",
       "2022-02-02           66738           1054            70           240\n",
       "\n",
       "[67 rows x 4 columns]"
      ]
     },
     "execution_count": 14,
     "metadata": {},
     "output_type": "execute_result"
    }
   ],
   "source": [
    "casos_es_novfeb = casos_es.loc[\"2021-11-28\":\"2022-2-2\"]\n",
    "casos_es_novfeb"
   ]
  },
  {
   "cell_type": "code",
   "execution_count": 15,
   "id": "06a647ae",
   "metadata": {},
   "outputs": [
    {
     "data": {
      "text/html": [
       "<div>\n",
       "<style scoped>\n",
       "    .dataframe tbody tr th:only-of-type {\n",
       "        vertical-align: middle;\n",
       "    }\n",
       "\n",
       "    .dataframe tbody tr th {\n",
       "        vertical-align: top;\n",
       "    }\n",
       "\n",
       "    .dataframe thead th {\n",
       "        text-align: right;\n",
       "    }\n",
       "</style>\n",
       "<table border=\"1\" class=\"dataframe\">\n",
       "  <thead>\n",
       "    <tr style=\"text-align: right;\">\n",
       "      <th></th>\n",
       "      <th>sum(num_casos)</th>\n",
       "      <th>sum(num_hosp)</th>\n",
       "      <th>sum(num_uci)</th>\n",
       "      <th>sum(num_def)</th>\n",
       "    </tr>\n",
       "    <tr>\n",
       "      <th>fecha</th>\n",
       "      <th></th>\n",
       "      <th></th>\n",
       "      <th></th>\n",
       "      <th></th>\n",
       "    </tr>\n",
       "  </thead>\n",
       "  <tbody>\n",
       "    <tr>\n",
       "      <th>2020-01-05</th>\n",
       "      <td>0</td>\n",
       "      <td>103</td>\n",
       "      <td>2</td>\n",
       "      <td>0</td>\n",
       "    </tr>\n",
       "    <tr>\n",
       "      <th>2020-01-12</th>\n",
       "      <td>2</td>\n",
       "      <td>43</td>\n",
       "      <td>2</td>\n",
       "      <td>0</td>\n",
       "    </tr>\n",
       "    <tr>\n",
       "      <th>2020-01-19</th>\n",
       "      <td>1</td>\n",
       "      <td>47</td>\n",
       "      <td>3</td>\n",
       "      <td>0</td>\n",
       "    </tr>\n",
       "    <tr>\n",
       "      <th>2020-01-26</th>\n",
       "      <td>1</td>\n",
       "      <td>56</td>\n",
       "      <td>2</td>\n",
       "      <td>0</td>\n",
       "    </tr>\n",
       "    <tr>\n",
       "      <th>2020-02-02</th>\n",
       "      <td>1</td>\n",
       "      <td>86</td>\n",
       "      <td>1</td>\n",
       "      <td>0</td>\n",
       "    </tr>\n",
       "    <tr>\n",
       "      <th>...</th>\n",
       "      <td>...</td>\n",
       "      <td>...</td>\n",
       "      <td>...</td>\n",
       "      <td>...</td>\n",
       "    </tr>\n",
       "    <tr>\n",
       "      <th>2022-02-27</th>\n",
       "      <td>117910</td>\n",
       "      <td>2610</td>\n",
       "      <td>156</td>\n",
       "      <td>657</td>\n",
       "    </tr>\n",
       "    <tr>\n",
       "      <th>2022-03-06</th>\n",
       "      <td>111225</td>\n",
       "      <td>2296</td>\n",
       "      <td>120</td>\n",
       "      <td>520</td>\n",
       "    </tr>\n",
       "    <tr>\n",
       "      <th>2022-03-13</th>\n",
       "      <td>110548</td>\n",
       "      <td>2266</td>\n",
       "      <td>149</td>\n",
       "      <td>436</td>\n",
       "    </tr>\n",
       "    <tr>\n",
       "      <th>2022-03-20</th>\n",
       "      <td>118602</td>\n",
       "      <td>2419</td>\n",
       "      <td>112</td>\n",
       "      <td>367</td>\n",
       "    </tr>\n",
       "    <tr>\n",
       "      <th>2022-03-27</th>\n",
       "      <td>123330</td>\n",
       "      <td>2541</td>\n",
       "      <td>127</td>\n",
       "      <td>310</td>\n",
       "    </tr>\n",
       "  </tbody>\n",
       "</table>\n",
       "<p>117 rows × 4 columns</p>\n",
       "</div>"
      ],
      "text/plain": [
       "            sum(num_casos)  sum(num_hosp)  sum(num_uci)  sum(num_def)\n",
       "fecha                                                                \n",
       "2020-01-05               0            103             2             0\n",
       "2020-01-12               2             43             2             0\n",
       "2020-01-19               1             47             3             0\n",
       "2020-01-26               1             56             2             0\n",
       "2020-02-02               1             86             1             0\n",
       "...                    ...            ...           ...           ...\n",
       "2022-02-27          117910           2610           156           657\n",
       "2022-03-06          111225           2296           120           520\n",
       "2022-03-13          110548           2266           149           436\n",
       "2022-03-20          118602           2419           112           367\n",
       "2022-03-27          123330           2541           127           310\n",
       "\n",
       "[117 rows x 4 columns]"
      ]
     },
     "execution_count": 15,
     "metadata": {},
     "output_type": "execute_result"
    }
   ],
   "source": [
    "casos_es = casos_es.resample('1W').sum()\n",
    "casos_es"
   ]
  },
  {
   "cell_type": "code",
   "execution_count": 16,
   "id": "c47861a7",
   "metadata": {},
   "outputs": [],
   "source": [
    "casos_es.to_csv(\"/home/guti/Documents/UPM_Software_3/Big_Data/final_project/data/casos_es_semanal.csv\")"
   ]
  },
  {
   "cell_type": "code",
   "execution_count": 17,
   "id": "080d1f47",
   "metadata": {},
   "outputs": [],
   "source": [
    "trends_es_daily = csv_es"
   ]
  },
  {
   "cell_type": "code",
   "execution_count": 18,
   "id": "32a97822",
   "metadata": {},
   "outputs": [],
   "source": [
    "trends_es_daily.day = pd.to_datetime(trends_es_daily.day)\n",
    "trends_es_daily = trends_es_daily.set_index(['day'])\n"
   ]
  },
  {
   "cell_type": "code",
   "execution_count": 19,
   "id": "386691b2",
   "metadata": {},
   "outputs": [
    {
     "data": {
      "text/html": [
       "<div>\n",
       "<style scoped>\n",
       "    .dataframe tbody tr th:only-of-type {\n",
       "        vertical-align: middle;\n",
       "    }\n",
       "\n",
       "    .dataframe tbody tr th {\n",
       "        vertical-align: top;\n",
       "    }\n",
       "\n",
       "    .dataframe thead th {\n",
       "        text-align: right;\n",
       "    }\n",
       "</style>\n",
       "<table border=\"1\" class=\"dataframe\">\n",
       "  <thead>\n",
       "    <tr style=\"text-align: right;\">\n",
       "      <th></th>\n",
       "      <th>covid</th>\n",
       "      <th>pcr</th>\n",
       "      <th>fiebre</th>\n",
       "      <th>perdida_olfato</th>\n",
       "      <th>antigenos</th>\n",
       "    </tr>\n",
       "    <tr>\n",
       "      <th>day</th>\n",
       "      <th></th>\n",
       "      <th></th>\n",
       "      <th></th>\n",
       "      <th></th>\n",
       "      <th></th>\n",
       "    </tr>\n",
       "  </thead>\n",
       "  <tbody>\n",
       "    <tr>\n",
       "      <th>2021-11-28</th>\n",
       "      <td>29</td>\n",
       "      <td>33</td>\n",
       "      <td>30</td>\n",
       "      <td>23</td>\n",
       "      <td>9</td>\n",
       "    </tr>\n",
       "    <tr>\n",
       "      <th>2021-11-29</th>\n",
       "      <td>43</td>\n",
       "      <td>38</td>\n",
       "      <td>33</td>\n",
       "      <td>34</td>\n",
       "      <td>13</td>\n",
       "    </tr>\n",
       "    <tr>\n",
       "      <th>2021-11-30</th>\n",
       "      <td>44</td>\n",
       "      <td>34</td>\n",
       "      <td>35</td>\n",
       "      <td>14</td>\n",
       "      <td>14</td>\n",
       "    </tr>\n",
       "    <tr>\n",
       "      <th>2021-12-01</th>\n",
       "      <td>43</td>\n",
       "      <td>31</td>\n",
       "      <td>41</td>\n",
       "      <td>13</td>\n",
       "      <td>14</td>\n",
       "    </tr>\n",
       "    <tr>\n",
       "      <th>2021-12-02</th>\n",
       "      <td>49</td>\n",
       "      <td>31</td>\n",
       "      <td>37</td>\n",
       "      <td>0</td>\n",
       "      <td>15</td>\n",
       "    </tr>\n",
       "    <tr>\n",
       "      <th>...</th>\n",
       "      <td>...</td>\n",
       "      <td>...</td>\n",
       "      <td>...</td>\n",
       "      <td>...</td>\n",
       "      <td>...</td>\n",
       "    </tr>\n",
       "    <tr>\n",
       "      <th>2022-01-29</th>\n",
       "      <td>27</td>\n",
       "      <td>17</td>\n",
       "      <td>54</td>\n",
       "      <td>0</td>\n",
       "      <td>16</td>\n",
       "    </tr>\n",
       "    <tr>\n",
       "      <th>2022-01-30</th>\n",
       "      <td>22</td>\n",
       "      <td>12</td>\n",
       "      <td>47</td>\n",
       "      <td>25</td>\n",
       "      <td>13</td>\n",
       "    </tr>\n",
       "    <tr>\n",
       "      <th>2022-01-31</th>\n",
       "      <td>27</td>\n",
       "      <td>17</td>\n",
       "      <td>46</td>\n",
       "      <td>51</td>\n",
       "      <td>15</td>\n",
       "    </tr>\n",
       "    <tr>\n",
       "      <th>2022-02-01</th>\n",
       "      <td>26</td>\n",
       "      <td>17</td>\n",
       "      <td>41</td>\n",
       "      <td>20</td>\n",
       "      <td>15</td>\n",
       "    </tr>\n",
       "    <tr>\n",
       "      <th>2022-02-02</th>\n",
       "      <td>25</td>\n",
       "      <td>18</td>\n",
       "      <td>48</td>\n",
       "      <td>0</td>\n",
       "      <td>13</td>\n",
       "    </tr>\n",
       "  </tbody>\n",
       "</table>\n",
       "<p>67 rows × 5 columns</p>\n",
       "</div>"
      ],
      "text/plain": [
       "            covid  pcr  fiebre  perdida_olfato  antigenos\n",
       "day                                                      \n",
       "2021-11-28     29   33      30              23          9\n",
       "2021-11-29     43   38      33              34         13\n",
       "2021-11-30     44   34      35              14         14\n",
       "2021-12-01     43   31      41              13         14\n",
       "2021-12-02     49   31      37               0         15\n",
       "...           ...  ...     ...             ...        ...\n",
       "2022-01-29     27   17      54               0         16\n",
       "2022-01-30     22   12      47              25         13\n",
       "2022-01-31     27   17      46              51         15\n",
       "2022-02-01     26   17      41              20         15\n",
       "2022-02-02     25   18      48               0         13\n",
       "\n",
       "[67 rows x 5 columns]"
      ]
     },
     "execution_count": 19,
     "metadata": {},
     "output_type": "execute_result"
    }
   ],
   "source": [
    "trends_es_daily"
   ]
  },
  {
   "cell_type": "code",
   "execution_count": 20,
   "id": "5efab213",
   "metadata": {},
   "outputs": [
    {
     "data": {
      "text/html": [
       "<div>\n",
       "<style scoped>\n",
       "    .dataframe tbody tr th:only-of-type {\n",
       "        vertical-align: middle;\n",
       "    }\n",
       "\n",
       "    .dataframe tbody tr th {\n",
       "        vertical-align: top;\n",
       "    }\n",
       "\n",
       "    .dataframe thead th {\n",
       "        text-align: right;\n",
       "    }\n",
       "</style>\n",
       "<table border=\"1\" class=\"dataframe\">\n",
       "  <thead>\n",
       "    <tr style=\"text-align: right;\">\n",
       "      <th></th>\n",
       "      <th>sum(num_casos)</th>\n",
       "      <th>sum(num_hosp)</th>\n",
       "      <th>sum(num_uci)</th>\n",
       "      <th>sum(num_def)</th>\n",
       "    </tr>\n",
       "    <tr>\n",
       "      <th>day</th>\n",
       "      <th></th>\n",
       "      <th></th>\n",
       "      <th></th>\n",
       "      <th></th>\n",
       "    </tr>\n",
       "  </thead>\n",
       "  <tbody>\n",
       "    <tr>\n",
       "      <th>2021-11-28</th>\n",
       "      <td>4537</td>\n",
       "      <td>267</td>\n",
       "      <td>36</td>\n",
       "      <td>27</td>\n",
       "    </tr>\n",
       "    <tr>\n",
       "      <th>2021-11-29</th>\n",
       "      <td>11555</td>\n",
       "      <td>353</td>\n",
       "      <td>54</td>\n",
       "      <td>41</td>\n",
       "    </tr>\n",
       "    <tr>\n",
       "      <th>2021-11-30</th>\n",
       "      <td>13309</td>\n",
       "      <td>425</td>\n",
       "      <td>38</td>\n",
       "      <td>45</td>\n",
       "    </tr>\n",
       "    <tr>\n",
       "      <th>2021-12-01</th>\n",
       "      <td>14369</td>\n",
       "      <td>398</td>\n",
       "      <td>60</td>\n",
       "      <td>41</td>\n",
       "    </tr>\n",
       "    <tr>\n",
       "      <th>2021-12-02</th>\n",
       "      <td>15618</td>\n",
       "      <td>395</td>\n",
       "      <td>53</td>\n",
       "      <td>36</td>\n",
       "    </tr>\n",
       "    <tr>\n",
       "      <th>...</th>\n",
       "      <td>...</td>\n",
       "      <td>...</td>\n",
       "      <td>...</td>\n",
       "      <td>...</td>\n",
       "    </tr>\n",
       "    <tr>\n",
       "      <th>2022-01-29</th>\n",
       "      <td>47035</td>\n",
       "      <td>1019</td>\n",
       "      <td>58</td>\n",
       "      <td>246</td>\n",
       "    </tr>\n",
       "    <tr>\n",
       "      <th>2022-01-30</th>\n",
       "      <td>39935</td>\n",
       "      <td>943</td>\n",
       "      <td>68</td>\n",
       "      <td>232</td>\n",
       "    </tr>\n",
       "    <tr>\n",
       "      <th>2022-01-31</th>\n",
       "      <td>80735</td>\n",
       "      <td>1126</td>\n",
       "      <td>80</td>\n",
       "      <td>266</td>\n",
       "    </tr>\n",
       "    <tr>\n",
       "      <th>2022-02-01</th>\n",
       "      <td>72283</td>\n",
       "      <td>1134</td>\n",
       "      <td>58</td>\n",
       "      <td>257</td>\n",
       "    </tr>\n",
       "    <tr>\n",
       "      <th>2022-02-02</th>\n",
       "      <td>66738</td>\n",
       "      <td>1054</td>\n",
       "      <td>70</td>\n",
       "      <td>240</td>\n",
       "    </tr>\n",
       "  </tbody>\n",
       "</table>\n",
       "<p>67 rows × 4 columns</p>\n",
       "</div>"
      ],
      "text/plain": [
       "            sum(num_casos)  sum(num_hosp)  sum(num_uci)  sum(num_def)\n",
       "day                                                                  \n",
       "2021-11-28            4537            267            36            27\n",
       "2021-11-29           11555            353            54            41\n",
       "2021-11-30           13309            425            38            45\n",
       "2021-12-01           14369            398            60            41\n",
       "2021-12-02           15618            395            53            36\n",
       "...                    ...            ...           ...           ...\n",
       "2022-01-29           47035           1019            58           246\n",
       "2022-01-30           39935            943            68           232\n",
       "2022-01-31           80735           1126            80           266\n",
       "2022-02-01           72283           1134            58           257\n",
       "2022-02-02           66738           1054            70           240\n",
       "\n",
       "[67 rows x 4 columns]"
      ]
     },
     "execution_count": 20,
     "metadata": {},
     "output_type": "execute_result"
    }
   ],
   "source": [
    "casos_es_novfeb.index.names = [\"day\"]\n",
    "casos_es_novfeb"
   ]
  },
  {
   "cell_type": "code",
   "execution_count": 21,
   "id": "47dc1547",
   "metadata": {},
   "outputs": [
    {
     "data": {
      "text/plain": [
       "0.4380065507706367"
      ]
     },
     "execution_count": 21,
     "metadata": {},
     "output_type": "execute_result"
    }
   ],
   "source": [
    "casos_es_novfeb['sum(num_casos)'].corr(trends_es_daily.covid)\n",
    "casos_es_novfeb['sum(num_casos)'].corr(trends_es_daily.pcr)\n",
    "casos_es_novfeb['sum(num_casos)'].corr(trends_es_daily.fiebre)\n",
    "casos_es_novfeb['sum(num_casos)'].corr(trends_es_daily.perdida_olfato)\n",
    "casos_es_novfeb['sum(num_casos)'].corr(trends_es_daily.antigenos)"
   ]
  },
  {
   "cell_type": "code",
   "execution_count": 22,
   "id": "098aaa16",
   "metadata": {},
   "outputs": [],
   "source": [
    "head = ['co_covid', 'co_fibre','pcr','perdida_olfato','antigenos']"
   ]
  },
  {
   "cell_type": "code",
   "execution_count": 23,
   "id": "53335ef4",
   "metadata": {},
   "outputs": [],
   "source": [
    "covid = []\n",
    "fiebre = []\n",
    "pcr = []\n",
    "olfato = []\n",
    "antigenos = []\n",
    "corr = {\n",
    "     'covid':[],\n",
    "     'pcr':[],\n",
    "     'fiebre':[],\n",
    "     'perdida_olfato':[] ,\n",
    "     'antigenos':[]\n",
    "}"
   ]
  },
  {
   "cell_type": "code",
   "execution_count": 24,
   "id": "c47c343e",
   "metadata": {},
   "outputs": [],
   "source": [
    "# avanza la columna i posiciones con respecto al indice\n",
    "def shift_column(df, col_n, i):\n",
    "    df_col = df[col_n]\n",
    "    shifted_index = df_col.index[:-i] if i!=0 else df_col.index\n",
    "    shifted_col = df_col[i:]\n",
    "    shifted_col.index = shifted_index\n",
    "    return shifted_col\n",
    "        "
   ]
  },
  {
   "cell_type": "code",
   "execution_count": 25,
   "id": "9b5fb85f",
   "metadata": {},
   "outputs": [],
   "source": [
    "df_t = trends_es_daily.copy()"
   ]
  },
  {
   "cell_type": "code",
   "execution_count": 26,
   "id": "091e41af",
   "metadata": {},
   "outputs": [],
   "source": [
    "for i in range(0,50):\n",
    "    for col_name in trends_es_daily.columns:\n",
    "        trend_col = trends_es_daily[col_name][:-i] if i!=0 else trends_es_daily[col_name]\n",
    "        corr[col_name].append(shift_column(casos_es_novfeb, 'sum(num_casos)', i).corr(trend_col))"
   ]
  },
  {
   "cell_type": "code",
   "execution_count": 27,
   "id": "86bcaf6a",
   "metadata": {},
   "outputs": [
    {
     "data": {
      "text/plain": [
       "'obama'"
      ]
     },
     "execution_count": 27,
     "metadata": {},
     "output_type": "execute_result"
    }
   ],
   "source": [
    "'obama'[:1000]"
   ]
  },
  {
   "cell_type": "code",
   "execution_count": 28,
   "id": "3de2481a",
   "metadata": {},
   "outputs": [
    {
     "data": {
      "text/plain": [
       "[]"
      ]
     },
     "execution_count": 28,
     "metadata": {},
     "output_type": "execute_result"
    }
   ],
   "source": [
    "covid"
   ]
  },
  {
   "cell_type": "code",
   "execution_count": 29,
   "id": "ffbfa8cf",
   "metadata": {},
   "outputs": [
    {
     "data": {
      "text/plain": [
       "Index(['covid', 'pcr', 'fiebre', 'perdida_olfato', 'antigenos'], dtype='object')"
      ]
     },
     "execution_count": 29,
     "metadata": {},
     "output_type": "execute_result"
    }
   ],
   "source": [
    "trends_es_daily.columns"
   ]
  },
  {
   "cell_type": "code",
   "execution_count": 30,
   "id": "249c07b3",
   "metadata": {},
   "outputs": [
    {
     "name": "stdout",
     "output_type": "stream",
     "text": [
      "<class 'str'>\n",
      "<class 'str'>\n",
      "<class 'str'>\n",
      "<class 'str'>\n",
      "<class 'str'>\n"
     ]
    }
   ],
   "source": [
    "for i in trends_es_daily.columns:\n",
    "    print(type(i))"
   ]
  },
  {
   "cell_type": "code",
   "execution_count": 31,
   "id": "bbd5a4eb",
   "metadata": {},
   "outputs": [],
   "source": [
    "corr_df = pd.DataFrame(corr)"
   ]
  },
  {
   "cell_type": "code",
   "execution_count": 38,
   "id": "c7f429d3",
   "metadata": {},
   "outputs": [],
   "source": [
    "corr_df.index.names = ['desfase']"
   ]
  },
  {
   "cell_type": "code",
   "execution_count": 39,
   "id": "6db59030",
   "metadata": {},
   "outputs": [],
   "source": [
    "import seaborn as sns\n",
    "sns.set_theme(style=\"darkgrid\")\n",
    "%matplotlib inline\n",
    "#%matplotlib inline"
   ]
  },
  {
   "cell_type": "code",
   "execution_count": 40,
   "id": "42d3b915",
   "metadata": {},
   "outputs": [
    {
     "data": {
      "text/plain": [
       "[Text(0.5, 1.0, 'Correlación con casos_covid')]"
      ]
     },
     "execution_count": 40,
     "metadata": {},
     "output_type": "execute_result"
    },
    {
     "data": {
      "image/png": "[encoded data removed]",
      "text/plain": [
       "<Figure size 640x480 with 1 Axes>"
      ]
     },
     "metadata": {},
     "output_type": "display_data"
    }
   ],
   "source": [
    "# Plot the responses for different events and regions\n",
    "sns.lineplot(data=corr_df,).set(title='Correlación con casos_covid')\n"
   ]
  },
  {
   "cell_type": "code",
   "execution_count": 35,
   "id": "f1dc369d",
   "metadata": {},
   "outputs": [
    {
     "data": {
      "image/png": "[encoded data removed]",
      "text/plain": [
       "<Figure size 640x480 with 1 Axes>"
      ]
     },
     "metadata": {},
     "output_type": "display_data"
    },
    {
     "name": "stdout",
     "output_type": "stream",
     "text": [
      "CPU times: user 2 µs, sys: 1e+03 ns, total: 3 µs\n",
      "Wall time: 6.2 µs\n"
     ]
    }
   ],
   "source": [
    "sns.lineplot(data=corr_df.iloc[:15,])\n",
    "plt.show()\n",
    "%time"
   ]
  },
  {
   "cell_type": "code",
   "execution_count": 36,
   "id": "c7aeb610",
   "metadata": {},
   "outputs": [
    {
     "name": "stdout",
     "output_type": "stream",
     "text": [
      "Using matplotlib backend: <object object at 0x7fbff77f5a20>\n"
     ]
    }
   ],
   "source": [
    "%matplotlib"
   ]
  },
  {
   "cell_type": "code",
   "execution_count": 37,
   "id": "548a3205",
   "metadata": {},
   "outputs": [],
   "source": [
    "plt.show()"
   ]
  },
  {
   "cell_type": "code",
   "execution_count": null,
   "id": "59d0c420",
   "metadata": {},
   "outputs": [],
   "source": []
  }
 ],
 "metadata": {
  "kernelspec": {
   "display_name": "Python 3 (ipykernel)",
   "language": "python",
   "name": "python3"
  },
  "language_info": {
   "codemirror_mode": {
    "name": "ipython",
    "version": 3
   },
   "file_extension": ".py",
   "mimetype": "text/x-python",
   "name": "python",
   "nbconvert_exporter": "python",
   "pygments_lexer": "ipython3",
   "version": "3.8.10"
  }
 },
 "nbformat": 4,
 "nbformat_minor": 5
}
